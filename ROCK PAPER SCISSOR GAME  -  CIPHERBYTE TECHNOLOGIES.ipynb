{
 "cells": [
  {
   "cell_type": "markdown",
   "id": "a7482c6f",
   "metadata": {},
   "source": [
    "# CIPHERBYTE TECHNOLOGIES INTERN - TASK 1"
   ]
  },
  {
   "cell_type": "markdown",
   "id": "83a76523",
   "metadata": {},
   "source": [
    "# ROCK PAPER SCISSOR GAME"
   ]
  },
  {
   "cell_type": "code",
   "execution_count": null,
   "id": "9c2df7f6",
   "metadata": {},
   "outputs": [
    {
     "name": "stdout",
     "output_type": "stream",
     "text": [
      "Welcome to Rock-Paper-Scissors game!\n"
     ]
    }
   ],
   "source": [
    "import random\n",
    "\n",
    "def select():\n",
    "    while True:\n",
    "        user_choice = input(\"Enter your choice Rock, Paper, or Scissors: \").lower()\n",
    "        if user_choice in (\"rock\", \"paper\", \"scissors\"):\n",
    "            return user_choice\n",
    "        else:\n",
    "            print(\"Invalid selection. Please choose rock, paper, or scissors.\")\n",
    "\n",
    "def computer_selection():\n",
    "    choices = [\"rock\", \"paper\", \"scissors\"]\n",
    "    return random.choice(choices)\n",
    "\n",
    "def winner(user_choice, computer_choice):\n",
    "    if user_choice == computer_choice:\n",
    "        return \"It's a tie!\"\n",
    "    elif (\n",
    "        (user_choice == \"rock\" and computer_choice == \"scissors\") or\n",
    "        (user_choice == \"paper\" and computer_choice == \"rock\") or\n",
    "        (user_choice == \"scissors\" and computer_choice == \"paper\")\n",
    "    ):\n",
    "        return \"You win!\"\n",
    "    else:\n",
    "        return \"Computer wins!\"\n",
    "\n",
    "def main():\n",
    "    user_score = 0\n",
    "    computer_score = 0\n",
    "    \n",
    "    while True:\n",
    "        user_choice = select()\n",
    "        computer_choice = computer_selection()\n",
    "        \n",
    "        print(f\"You chose {user_choice}.\")\n",
    "        print(f\"Computer chose {computer_choice}.\")\n",
    "        \n",
    "        result = winner(user_choice, computer_choice)\n",
    "        print(result)\n",
    "        \n",
    "        play_again = input(\"Do you want to play again? (yes/no): \").lower()\n",
    "        if play_again != \"yes\":\n",
    "            break\n",
    "\n",
    "if __name__ == \"__main__\":\n",
    "    print(\"Welcome to Rock-Paper-Scissors game!\")\n",
    "    main()"
   ]
  },
  {
   "cell_type": "code",
   "execution_count": null,
   "id": "4355df45",
   "metadata": {},
   "outputs": [],
   "source": []
  }
 ],
 "metadata": {
  "kernelspec": {
   "display_name": "Python 3 (ipykernel)",
   "language": "python",
   "name": "python3"
  },
  "language_info": {
   "codemirror_mode": {
    "name": "ipython",
    "version": 3
   },
   "file_extension": ".py",
   "mimetype": "text/x-python",
   "name": "python",
   "nbconvert_exporter": "python",
   "pygments_lexer": "ipython3",
   "version": "3.9.12"
  }
 },
 "nbformat": 4,
 "nbformat_minor": 5
}
